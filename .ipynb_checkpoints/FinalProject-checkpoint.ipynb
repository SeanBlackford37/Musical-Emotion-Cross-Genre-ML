{
 "cells": [
  {
   "cell_type": "code",
   "execution_count": 1,
   "metadata": {},
   "outputs": [],
   "source": [
    "# used for manipulating directory paths\n",
    "import os\n",
    "\n",
    "# Scientific and vector computation for python\n",
    "import numpy as np\n",
    "\n",
    "# Import regular expressions to process emails\n",
    "import re\n",
    "\n",
    "# Plotting library\n",
    "from matplotlib import pyplot\n",
    "\n",
    "# Optimization module in scipy\n",
    "from scipy import optimize\n",
    "\n",
    "# will be used to load MATLAB mat datafile format\n",
    "from scipy.io import loadmat\n",
    "\n",
    "# library written for this exercise providing additional functions for assignment submission, and others\n",
    "import utils\n",
    "\n",
    "# tells matplotlib to embed plots within the notebook\n",
    "%matplotlib inline\n",
    "\n",
    "# Import a CSV file\n",
    "import pandas as pd"
   ]
  },
  {
   "cell_type": "code",
   "execution_count": 2,
   "metadata": {},
   "outputs": [],
   "source": [
    "musicEmotion = pd.read_csv(\"Data/data.csv\")\n",
    "musicEmotion = musicEmotion.groupby('track id')"
   ]
  },
  {
   "cell_type": "code",
   "execution_count": 3,
   "metadata": {},
   "outputs": [],
   "source": [
    "musicEmotionAvgs = []\n",
    "for i in range(1,len(musicEmotion)+1): #Arrays grouped by track ID 1-400(inclusive)\n",
    "    count = 0\n",
    "    song = np.zeros(9) #Array to hold avg of each emotion for given song\n",
    "    musicEmotionOne = musicEmotion.get_group(i) #Get each group loop\n",
    "    musicEmotionOne = np.asmatrix(musicEmotionOne) \n",
    "    for j in range(2,11): #Avg each of the 9 emotions columms C through K from each grouping\n",
    "        song[count] = np.sum(musicEmotionOne[:,j:j+1]) / len(musicEmotionOne) #Avg for each emotion\n",
    "        count += 1 #Keeps track current place in the song array\n",
    "    musicEmotionAvgs.append(song)\n",
    "\n",
    "musicEmotionAvgs = np.asarray(musicEmotionAvgs) #Coverts Matrix to an array\n"
   ]
  },
  {
   "cell_type": "code",
   "execution_count": 4,
   "metadata": {},
   "outputs": [],
   "source": [
    "def findClosestCentroids(X, centroids):\n",
    "    \"\"\"\n",
    "    Computes the centroid memberships for every example.\n",
    "    \n",
    "    Parameters\n",
    "    ----------\n",
    "    X : array_like\n",
    "        The dataset of size (m, n) where each row is a single example. \n",
    "        That is, we have m examples each of n dimensions.\n",
    "        \n",
    "    centroids : array_like\n",
    "        The k-means centroids of size (K, n). K is the number\n",
    "        of clusters, and n is the the data dimension.\n",
    "    \n",
    "    Returns\n",
    "    -------\n",
    "    idx : array_like\n",
    "        A vector of size (m, ) which holds the centroids assignment for each\n",
    "        example (row) in the dataset X.\n",
    "    \n",
    "    Instructions\n",
    "    ------------\n",
    "    Go over every example, find its closest centroid, and store\n",
    "    the index inside `idx` at the appropriate location.\n",
    "    Concretely, idx[i] should contain the index of the centroid\n",
    "    closest to example i. Hence, it should be a value in the \n",
    "    range 0..K-1\n",
    "\n",
    "    Note\n",
    "    ----\n",
    "    You can use a for-loop over the examples to compute this.\n",
    "    \"\"\"\n",
    "    # Set K\n",
    "    K = centroids.shape[0]\n",
    "\n",
    "    # You need to return the following variables correctly.\n",
    "    idx = np.zeros(X.shape[0], dtype=int)\n",
    "\n",
    "    # ====================== YOUR CODE HERE ======================\n",
    "\n",
    "    for i in np.arange(idx.size):\n",
    "        \n",
    "        J = np.sqrt(np.sum(np.square(X[i] - centroids), axis = 1))\n",
    "            \n",
    "        idx[i] = np.argmin(J)\n",
    "    \n",
    "    # =============================================================\n",
    "    return idx"
   ]
  },
  {
   "cell_type": "code",
   "execution_count": 5,
   "metadata": {},
   "outputs": [],
   "source": [
    "def computeCentroids(X, idx, K):\n",
    "    \"\"\"\n",
    "    Returns the new centroids by computing the means of the data points\n",
    "    assigned to each centroid.\n",
    "    \n",
    "    Parameters\n",
    "    ----------\n",
    "    X : array_like\n",
    "        The datset where each row is a single data point. That is, it \n",
    "        is a matrix of size (m, n) where there are m datapoints each\n",
    "        having n dimensions. \n",
    "    \n",
    "    idx : array_like \n",
    "        A vector (size m) of centroid assignments (i.e. each entry in range [0 ... K-1])\n",
    "        for each example.\n",
    "    \n",
    "    K : int\n",
    "        Number of clusters\n",
    "    \n",
    "    Returns\n",
    "    -------\n",
    "    centroids : array_like\n",
    "        A matrix of size (K, n) where each row is the mean of the data \n",
    "        points assigned to it.\n",
    "    \n",
    "    Instructions\n",
    "    ------------\n",
    "    Go over every centroid and compute mean of all points that\n",
    "    belong to it. Concretely, the row vector centroids[i, :]\n",
    "    should contain the mean of the data points assigned to\n",
    "    cluster i.\n",
    "\n",
    "    Note:\n",
    "    -----\n",
    "    You can use a for-loop over the centroids to compute this.\n",
    "    \"\"\"\n",
    "    # Useful variables\n",
    "    m, n = X.shape\n",
    "    # You need to return the following variables correctly.\n",
    "    centroids = np.zeros((K, n))\n",
    "\n",
    "\n",
    "    # ====================== YOUR CODE HERE ======================\n",
    "\n",
    "    for i in np.arange(K):\n",
    "        centroids[i] = np.mean(X[idx == i], axis = 0)\n",
    "        \n",
    "    \n",
    "    # =============================================================\n",
    "    return centroids"
   ]
  },
  {
   "cell_type": "code",
   "execution_count": 6,
   "metadata": {},
   "outputs": [],
   "source": [
    "def kMeansInitCentroids(X, K):\n",
    "    \"\"\"\n",
    "    This function initializes K centroids that are to be used in K-means on the dataset x.\n",
    "    \n",
    "    Parameters\n",
    "    ----------\n",
    "    X : array_like \n",
    "        The dataset of size (m x n).\n",
    "    \n",
    "    K : int\n",
    "        The number of clusters.\n",
    "    \n",
    "    Returns\n",
    "    -------\n",
    "    centroids : array_like\n",
    "        Centroids of the clusters. This is a matrix of size (K x n).\n",
    "    \n",
    "    Instructions\n",
    "    ------------\n",
    "    You should set centroids to randomly chosen examples from the dataset X.\n",
    "    \"\"\"\n",
    "    m, n = X.shape\n",
    "    \n",
    "    # You should return this values correctly\n",
    "    centroids = np.zeros((K, n))\n",
    "\n",
    "    # ====================== YOUR CODE HERE ======================\n",
    "\n",
    "    randidx = np.random.permutation(X.shape[0])\n",
    "    centroids = X[randidx[:K], :]\n",
    "    \n",
    "    # =============================================================\n",
    "    return centroids"
   ]
  },
  {
   "cell_type": "code",
   "execution_count": 7,
   "metadata": {},
   "outputs": [
    {
     "name": "stdout",
     "output_type": "stream",
     "text": [
      "Printig Nine Initial Centroid Values: \n",
      "[[0.15555556 0.22222222 0.4        0.26666667 0.62222222 0.02222222\n",
      "  0.2        0.04444444 0.08888889]\n",
      " [0.35714286 0.42857143 0.         0.07142857 0.14285714 0.42857143\n",
      "  0.21428571 0.42857143 0.14285714]\n",
      " [0.2        0.22222222 0.28888889 0.46666667 0.24444444 0.04444444\n",
      "  0.13333333 0.15555556 0.2       ]\n",
      " [0.08333333 0.25       0.25       0.08333333 0.16666667 0.16666667\n",
      "  0.16666667 0.5        0.41666667]\n",
      " [0.         0.33333333 0.         0.33333333 0.33333333 0.08333333\n",
      "  0.         0.58333333 0.25      ]\n",
      " [0.16666667 0.16666667 0.         0.16666667 0.08333333 0.08333333\n",
      "  0.33333333 0.33333333 0.25      ]\n",
      " [0.16666667 0.41666667 0.08333333 0.16666667 0.25       0.08333333\n",
      "  0.         0.66666667 0.25      ]\n",
      " [0.09090909 0.45454545 0.09090909 0.         0.         0.63636364\n",
      "  0.54545455 0.18181818 0.09090909]\n",
      " [0.21428571 0.         0.28571429 0.42857143 0.28571429 0.07142857\n",
      "  0.14285714 0.28571429 0.        ]]\n"
     ]
    }
   ],
   "source": [
    "centroids = kMeansInitCentroids(musicEmotionAvgs, 9)\n",
    "print(\"Printig Nine Initial Centroid Values: \")\n",
    "print(centroids)"
   ]
  },
  {
   "cell_type": "code",
   "execution_count": 8,
   "metadata": {},
   "outputs": [
    {
     "name": "stdout",
     "output_type": "stream",
     "text": [
      "Running Centroid Values After Performing K Means until the centrioid do not change: \n",
      "[[0.11042139 0.15136262 0.40348678 0.36801013 0.61982851 0.04085693\n",
      "  0.10014992 0.06961996 0.16883193]\n",
      " [0.13162708 0.31351698 0.04273053 0.12537501 0.09768147 0.55038184\n",
      "  0.14347592 0.41223083 0.19663706]\n",
      " [0.07693545 0.15858707 0.32109093 0.47348812 0.38718138 0.0392249\n",
      "  0.0758613  0.09283755 0.37741467]\n",
      " [0.10840271 0.26387533 0.11893494 0.23448395 0.20354785 0.15642034\n",
      "  0.06875702 0.347121   0.41026762]\n",
      " [0.12448005 0.4094601  0.12204611 0.24718373 0.48341169 0.11633742\n",
      "  0.11539032 0.23466338 0.20472752]\n",
      " [0.21869207 0.09000714 0.10134936 0.15978599 0.14357216 0.17379365\n",
      "  0.66449059 0.16822015 0.04409777]\n",
      " [0.10355785 0.23882226 0.03826392 0.09603293 0.15425725 0.21532105\n",
      "  0.22734857 0.57338884 0.12728189]\n",
      " [0.17056727 0.15765734 0.03677406 0.10241197 0.06301824 0.43583638\n",
      "  0.53862426 0.32497677 0.05923432]\n",
      " [0.16404881 0.11440206 0.22543028 0.3103642  0.34602079 0.15926387\n",
      "  0.33063093 0.160011   0.12515509]]\n"
     ]
    }
   ],
   "source": [
    "centroidsPrev, idxPrev = utils.runkMeans(musicEmotionAvgs, centroids, findClosestCentroids, computeCentroids, 1, True)\n",
    "centroidsNew, idxNew = utils.runkMeans(musicEmotionAvgs, centroidsPrev, findClosestCentroids, computeCentroids, 1, True)\n",
    "\n",
    "print(\"Running Centroid Values After Performing K Means until the centrioid do not change: \")\n",
    "\n",
    "same = \"false\"\n",
    "while (same == \"false\"):\n",
    "    \n",
    "    if(np.array_equal(centroidsPrev,centroidsNew)):\n",
    "        same = \"true\"\n",
    "        centroids = centroidsNew\n",
    "    else:\n",
    "        centroidsPrev, idxPrev = utils.runkMeans(musicEmotionAvgs, centroidsNew, findClosestCentroids, computeCentroids, 1, True)\n",
    "        centroidsNew, idxNew = utils.runkMeans(musicEmotionAvgs, centroidsPrev , findClosestCentroids, computeCentroids, 2, True) \n",
    "\n",
    "\n",
    "        \n",
    "      \n",
    "print(centroids)"
   ]
  },
  {
   "cell_type": "code",
   "execution_count": 9,
   "metadata": {},
   "outputs": [],
   "source": [
    "def pca(X):\n",
    "    \"\"\"\n",
    "    Run principal component analysis.\n",
    "    \n",
    "    Parameters\n",
    "    ----------\n",
    "    X : array_like\n",
    "        The dataset to be used for computing PCA. It has dimensions (m x n)\n",
    "        where m is the number of examples (observations) and n is \n",
    "        the number of features.\n",
    "    \n",
    "    Returns\n",
    "    -------\n",
    "    U : array_like\n",
    "        The eigenvectors, representing the computed principal components\n",
    "        of X. U has dimensions (n x n) where each column is a single \n",
    "        principal component.\n",
    "    \n",
    "    S : array_like\n",
    "        A vector of size n, contaning the singular values for each\n",
    "        principal component. Note this is the diagonal of the matrix we \n",
    "        mentioned in class.\n",
    "    \n",
    "    Instructions\n",
    "    ------------\n",
    "    You should first compute the covariance matrix. Then, you\n",
    "    should use the \"svd\" function to compute the eigenvectors\n",
    "    and eigenvalues of the covariance matrix. \n",
    "\n",
    "    Notes\n",
    "    -----\n",
    "    When computing the covariance matrix, remember to divide by m (the\n",
    "    number of examples).\n",
    "    \"\"\"\n",
    "    # Useful values\n",
    "    m, n = X.shape\n",
    "\n",
    "    # You need to return the following variables correctly.\n",
    "    U = np.zeros(n)\n",
    "    S = np.zeros(n)\n",
    "\n",
    "    # ====================== YOUR CODE HERE ======================\n",
    "\n",
    "    Sigma = (1 / m) * (X.T.dot(X))\n",
    "    U, S, V = np.linalg.svd(Sigma)\n",
    "    \n",
    "    # ============================================================\n",
    "    return U, S"
   ]
  },
  {
   "cell_type": "code",
   "execution_count": 10,
   "metadata": {},
   "outputs": [],
   "source": [
    "def projectData(X, U, K):\n",
    "    \"\"\"\n",
    "    Computes the reduced data representation when projecting only \n",
    "    on to the top K eigenvectors.\n",
    "    \n",
    "    Parameters\n",
    "    ----------\n",
    "    X : array_like\n",
    "        The input dataset of shape (m x n). The dataset is assumed to be \n",
    "        normalized.\n",
    "    \n",
    "    U : array_like\n",
    "        The computed eigenvectors using PCA. This is a matrix of \n",
    "        shape (n x n). Each column in the matrix represents a single\n",
    "        eigenvector (or a single principal component).\n",
    "    \n",
    "    K : int\n",
    "        Number of dimensions to project onto. Must be smaller than n.\n",
    "    \n",
    "    Returns\n",
    "    -------\n",
    "    Z : array_like\n",
    "        The projects of the dataset onto the top K eigenvectors. \n",
    "        This will be a matrix of shape (m x k).\n",
    "    \n",
    "    Instructions\n",
    "    ------------\n",
    "    Compute the projection of the data using only the top K \n",
    "    eigenvectors in U (first K columns). \n",
    "    For the i-th example X[i,:], the projection on to the k-th \n",
    "    eigenvector is given as follows:\n",
    "    \n",
    "        x = X[i, :]\n",
    "        projection_k = np.dot(x,  U[:, k])\n",
    "\n",
    "    \"\"\"\n",
    "    # You need to return the following variables correctly.\n",
    "    Z = np.zeros((X.shape[0], K))\n",
    "\n",
    "    # ====================== YOUR CODE HERE ======================\n",
    "\n",
    "    Z = np.dot(X,  U[:, :K])\n",
    "    \n",
    "    # =============================================================\n",
    "    return Z"
   ]
  },
  {
   "cell_type": "code",
   "execution_count": 11,
   "metadata": {},
   "outputs": [
    {
     "name": "stdout",
     "output_type": "stream",
     "text": [
      "Performing PCA on Music Emotion Averages to Reduce Dimensionality\n"
     ]
    }
   ],
   "source": [
    "U,S = pca(musicEmotionAvgs)\n",
    "z = projectData(musicEmotionAvgs, U, 2)\n",
    "print(\"Performing PCA on Music Emotion Averages to Reduce Dimensionality\")"
   ]
  },
  {
   "cell_type": "code",
   "execution_count": 12,
   "metadata": {},
   "outputs": [
    {
     "name": "stdout",
     "output_type": "stream",
     "text": [
      "Performing PCA on Centroids to Reduce Dimensionality\n"
     ]
    }
   ],
   "source": [
    "U1,S1 = pca(centroids)\n",
    "z1 = projectData(centroids, U1, 2)\n",
    "print(\"Performing PCA on Centroids to Reduce Dimensionality\")"
   ]
  },
  {
   "cell_type": "code",
   "execution_count": 13,
   "metadata": {},
   "outputs": [
    {
     "name": "stdout",
     "output_type": "stream",
     "text": [
      "Centroids\n"
     ]
    },
    {
     "data": {
      "text/plain": [
       "<matplotlib.collections.PathCollection at 0x167a8fb42e0>"
      ]
     },
     "execution_count": 13,
     "metadata": {},
     "output_type": "execute_result"
    },
    {
     "data": {
      "image/png": "[encoded data removed]",
      "text/plain": [
       "<Figure size 432x288 with 1 Axes>"
      ]
     },
     "metadata": {
      "needs_background": "light"
     },
     "output_type": "display_data"
    }
   ],
   "source": [
    "print(\"Centroids\")\n",
    "centroidPlot = pyplot.gca()\n",
    "centroidPlot.scatter(z1[:,:1], z1[:,1:2], color = \"red\", marker= \"*\") # Centroids"
   ]
  },
  {
   "cell_type": "code",
   "execution_count": 14,
   "metadata": {},
   "outputs": [
    {
     "name": "stdout",
     "output_type": "stream",
     "text": [
      "Musical Emotion Cross Genre Similarities\n"
     ]
    },
    {
     "data": {
      "text/plain": [
       "<matplotlib.collections.PathCollection at 0x167a97005b0>"
      ]
     },
     "execution_count": 14,
     "metadata": {},
     "output_type": "execute_result"
    },
    {
     "data": {
      "image/png": "[encoded data removed]",
      "text/plain": [
       "<Figure size 432x288 with 1 Axes>"
      ]
     },
     "metadata": {
      "needs_background": "light"
     },
     "output_type": "display_data"
    }
   ],
   "source": [
    "print(\"Musical Emotion Cross Genre Similarities\")\n",
    "init_plot = pyplot.gca()\n",
    "init_plot.scatter(z[:101,:1], z[:101,1:2], color = \"pink\") # Classical\n",
    "init_plot.scatter(z[101:201,:1], z[101:201,1:2], color = \"lightblue\") # Rock\n",
    "init_plot.scatter(z[201:301,:1], z[201:301,1:2], color = \"green\") # Electronic\n",
    "init_plot.scatter(z[301:401,:1], z[301:401,1:2], color = \"yellow\") # Pop"
   ]
  },
  {
   "cell_type": "code",
   "execution_count": 15,
   "metadata": {},
   "outputs": [
    {
     "data": {
      "text/plain": [
       "<matplotlib.collections.PathCollection at 0x167aa7535e0>"
      ]
     },
     "execution_count": 15,
     "metadata": {},
     "output_type": "execute_result"
    },
    {
     "data": {
      "image/png": "[encoded data removed]",
      "text/plain": [
       "<Figure size 432x288 with 1 Axes>"
      ]
     },
     "metadata": {
      "needs_background": "light"
     },
     "output_type": "display_data"
    }
   ],
   "source": [
    "\n",
    "final_plot = pyplot.gca()\n",
    "final_plot.scatter(z[:101,:1], z[:101,1:2], color = \"pink\") # Classical\n",
    "final_plot.scatter(z[101:201,:1], z[101:201,1:2], color = \"lightblue\") # Rock\n",
    "final_plot.scatter(z[201:301,:1], z[201:301,1:2], color = \"green\") # Electronic\n",
    "final_plot.scatter(z[301:401,:1], z[301:401,1:2], color = \"yellow\") # Pop\n",
    "final_plot.scatter(z1[:,:1], z1[:,1:2], color = \"black\", marker= \"*\", s = 200) # Centroids"
   ]
  },
  {
   "cell_type": "code",
   "execution_count": 16,
   "metadata": {},
   "outputs": [
    {
     "name": "stdout",
     "output_type": "stream",
     "text": [
      "Printing Songs with Most Similar Induced Emotions\n",
      "Songs with Similar Induced Emotions: \n",
      " Genre:  0 J:  1\n",
      " Genre:  1 J:  43\n",
      "Songs with Similar Induced Emotions: \n",
      " Genre:  0 J:  7\n",
      " Genre:  1 J:  70\n",
      "Songs with Similar Induced Emotions: \n",
      " Genre:  0 J:  23\n",
      " Genre:  1 J:  42\n",
      "Songs with Similar Induced Emotions: \n",
      " Genre:  0 J:  23\n",
      " Genre:  1 J:  60\n",
      "Songs with Similar Induced Emotions: \n",
      " Genre:  0 J:  28\n",
      " Genre:  1 J:  82\n",
      "Songs with Similar Induced Emotions: \n",
      " Genre:  0 J:  31\n",
      " Genre:  1 J:  0\n",
      "Songs with Similar Induced Emotions: \n",
      " Genre:  0 J:  47\n",
      " Genre:  1 J:  52\n",
      "Songs with Similar Induced Emotions: \n",
      " Genre:  0 J:  55\n",
      " Genre:  1 J:  4\n",
      "Songs with Similar Induced Emotions: \n",
      " Genre:  0 J:  97\n",
      " Genre:  1 J:  31\n",
      "Songs with Similar Induced Emotions: \n",
      " Genre:  0 J:  11\n",
      " Genre:  2 J:  10\n",
      "Songs with Similar Induced Emotions: \n",
      " Genre:  0 J:  47\n",
      " Genre:  2 J:  6\n",
      "Songs with Similar Induced Emotions: \n",
      " Genre:  0 J:  8\n",
      " Genre:  3 J:  50\n",
      "Songs with Similar Induced Emotions: \n",
      " Genre:  0 J:  10\n",
      " Genre:  3 J:  35\n",
      "Songs with Similar Induced Emotions: \n",
      " Genre:  0 J:  12\n",
      " Genre:  3 J:  9\n",
      "Songs with Similar Induced Emotions: \n",
      " Genre:  0 J:  18\n",
      " Genre:  3 J:  28\n",
      "Songs with Similar Induced Emotions: \n",
      " Genre:  0 J:  35\n",
      " Genre:  3 J:  28\n",
      "Songs with Similar Induced Emotions: \n",
      " Genre:  0 J:  36\n",
      " Genre:  3 J:  35\n",
      "Songs with Similar Induced Emotions: \n",
      " Genre:  0 J:  37\n",
      " Genre:  3 J:  8\n",
      "Songs with Similar Induced Emotions: \n",
      " Genre:  0 J:  47\n",
      " Genre:  3 J:  37\n",
      "Songs with Similar Induced Emotions: \n",
      " Genre:  0 J:  60\n",
      " Genre:  3 J:  77\n",
      "Songs with Similar Induced Emotions: \n",
      " Genre:  0 J:  83\n",
      " Genre:  3 J:  18\n",
      "Songs with Similar Induced Emotions: \n",
      " Genre:  0 J:  84\n",
      " Genre:  3 J:  77\n",
      "Songs with Similar Induced Emotions: \n",
      " Genre:  0 J:  91\n",
      " Genre:  3 J:  35\n",
      "Songs with Similar Induced Emotions: \n",
      " Genre:  1 J:  1\n",
      " Genre:  2 J:  84\n",
      "Songs with Similar Induced Emotions: \n",
      " Genre:  1 J:  13\n",
      " Genre:  2 J:  78\n",
      "Songs with Similar Induced Emotions: \n",
      " Genre:  1 J:  25\n",
      " Genre:  2 J:  76\n",
      "Songs with Similar Induced Emotions: \n",
      " Genre:  1 J:  52\n",
      " Genre:  2 J:  6\n",
      "Songs with Similar Induced Emotions: \n",
      " Genre:  1 J:  53\n",
      " Genre:  2 J:  16\n",
      "Songs with Similar Induced Emotions: \n",
      " Genre:  1 J:  96\n",
      " Genre:  2 J:  67\n",
      "Songs with Similar Induced Emotions: \n",
      " Genre:  1 J:  97\n",
      " Genre:  2 J:  41\n",
      "Songs with Similar Induced Emotions: \n",
      " Genre:  1 J:  4\n",
      " Genre:  3 J:  50\n",
      "Songs with Similar Induced Emotions: \n",
      " Genre:  1 J:  5\n",
      " Genre:  3 J:  61\n",
      "Songs with Similar Induced Emotions: \n",
      " Genre:  1 J:  40\n",
      " Genre:  3 J:  3\n",
      "Songs with Similar Induced Emotions: \n",
      " Genre:  1 J:  46\n",
      " Genre:  3 J:  88\n",
      "Songs with Similar Induced Emotions: \n",
      " Genre:  1 J:  52\n",
      " Genre:  3 J:  37\n",
      "Songs with Similar Induced Emotions: \n",
      " Genre:  1 J:  62\n",
      " Genre:  3 J:  7\n",
      "Songs with Similar Induced Emotions: \n",
      " Genre:  1 J:  77\n",
      " Genre:  3 J:  93\n",
      "Songs with Similar Induced Emotions: \n",
      " Genre:  1 J:  81\n",
      " Genre:  3 J:  79\n",
      "Songs with Similar Induced Emotions: \n",
      " Genre:  1 J:  91\n",
      " Genre:  3 J:  23\n",
      "Songs with Similar Induced Emotions: \n",
      " Genre:  2 J:  6\n",
      " Genre:  3 J:  37\n",
      "Songs with Similar Induced Emotions: \n",
      " Genre:  2 J:  8\n",
      " Genre:  3 J:  59\n",
      "Songs with Similar Induced Emotions: \n",
      " Genre:  2 J:  8\n",
      " Genre:  3 J:  98\n",
      "Songs with Similar Induced Emotions: \n",
      " Genre:  2 J:  15\n",
      " Genre:  3 J:  23\n",
      "Songs with Similar Induced Emotions: \n",
      " Genre:  2 J:  30\n",
      " Genre:  3 J:  2\n",
      "Songs with Similar Induced Emotions: \n",
      " Genre:  2 J:  34\n",
      " Genre:  3 J:  26\n",
      "Songs with Similar Induced Emotions: \n",
      " Genre:  2 J:  35\n",
      " Genre:  3 J:  43\n",
      "Songs with Similar Induced Emotions: \n",
      " Genre:  2 J:  54\n",
      " Genre:  3 J:  93\n",
      "Songs with Similar Induced Emotions: \n",
      " Genre:  2 J:  63\n",
      " Genre:  3 J:  21\n"
     ]
    }
   ],
   "source": [
    "print(\"Printing Songs with Most Similar Induced Emotions\")\n",
    "\n",
    "classical = z[:101,:]\n",
    "rock = z[101:201,:]\n",
    "electronic = z[201:301,:]\n",
    "pop = z[301:401,:]\n",
    "songArray = [classical,rock,electronic,pop]         \n",
    "\n",
    "for n in range(3): # First array\n",
    "    arr = songArray[n]\n",
    "    \n",
    "    for i in range(n+1,4): # arrays to compare\n",
    "        arrTwo = songArray[i]\n",
    "        for j in range(99): # compare each song of the first array\n",
    "            song = arr[j]\n",
    "            for m in range(99): # compare j song to all of second genre songs\n",
    "                y = (song[0] - arrTwo[m][0])**2 \n",
    "                x = (song[1] - arrTwo[m][1])**2 \n",
    "                num = np.sqrt((y+x))\n",
    "                if(abs(num) < 0.01):\n",
    "                    print(\"Songs with Similar Induced Emotions: \")\n",
    "                    print(\" Genre: \", n, \"J: \", j)\n",
    "                    print(\" Genre: \", i, \"J: \", m)"
   ]
  },
  {
   "cell_type": "code",
   "execution_count": null,
   "metadata": {},
   "outputs": [],
   "source": []
  },
  {
   "cell_type": "code",
   "execution_count": null,
   "metadata": {},
   "outputs": [],
   "source": []
  }
 ],
 "metadata": {
  "kernelspec": {
   "display_name": "Python 3",
   "language": "python",
   "name": "python3"
  },
  "language_info": {
   "codemirror_mode": {
    "name": "ipython",
    "version": 3
   },
   "file_extension": ".py",
   "mimetype": "text/x-python",
   "name": "python",
   "nbconvert_exporter": "python",
   "pygments_lexer": "ipython3",
   "version": "3.8.3"
  }
 },
 "nbformat": 4,
 "nbformat_minor": 4
}
