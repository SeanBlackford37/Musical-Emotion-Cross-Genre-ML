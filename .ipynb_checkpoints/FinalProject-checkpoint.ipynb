{
 "cells": [
  {
   "cell_type": "code",
   "execution_count": 228,
   "metadata": {},
   "outputs": [],
   "source": [
    "# used for manipulating directory paths\n",
    "import os\n",
    "\n",
    "# Scientific and vector computation for python\n",
    "import numpy as np\n",
    "\n",
    "# Import regular expressions to process emails\n",
    "import re\n",
    "\n",
    "# Plotting library\n",
    "from matplotlib import pyplot\n",
    "\n",
    "# Optimization module in scipy\n",
    "from scipy import optimize\n",
    "\n",
    "# will be used to load MATLAB mat datafile format\n",
    "from scipy.io import loadmat\n",
    "\n",
    "# library written for this exercise providing additional functions for assignment submission, and others\n",
    "import utils\n",
    "\n",
    "# tells matplotlib to embed plots within the notebook\n",
    "%matplotlib inline\n",
    "\n",
    "# Import a CSV file\n",
    "import pandas as pd"
   ]
  },
  {
   "cell_type": "code",
   "execution_count": 265,
   "metadata": {},
   "outputs": [
    {
     "name": "stdout",
     "output_type": "stream",
     "text": [
      "48\n"
     ]
    }
   ],
   "source": [
    "musicEmotion = pd.read_csv(\"Data/data.csv\")\n",
    "musicEmotion = musicEmotion.groupby('track id')\n",
    "\n",
    "#print(len(musicEmotion.get_group(1)))\n",
    "#musicEmotion = np.asmatrix(musicEmotion)\n"
   ]
  },
  {
   "cell_type": "code",
   "execution_count": 230,
   "metadata": {},
   "outputs": [],
   "source": [
    "# musicEmotionOne = musicEmotion.get_group(1)\n",
    "# musicEmotionOne = np.asmatrix(musicEmotionOne)\n",
    "# musicEmotionOne[0,2:3]\n",
    "# print(musicEmotionOne[0,3:4])"
   ]
  },
  {
   "cell_type": "code",
   "execution_count": 271,
   "metadata": {},
   "outputs": [
    {
     "name": "stdout",
     "output_type": "stream",
     "text": [
      "399\n",
      "[0.14583333 0.33333333 0.20833333 0.29166667 0.625      0.02083333\n",
      " 0.08333333 0.0625     0.3125    ]\n"
     ]
    }
   ],
   "source": [
    "arrTwo = []\n",
    "for i in range(1,len(musicEmotion)):\n",
    "    countTwo = 0\n",
    "    arr = np.zeros(9)\n",
    "    musicEmotionOne = musicEmotion.get_group(i)\n",
    "    musicEmotionOne = np.asmatrix(musicEmotionOne)\n",
    "    for j in range(2,11):\n",
    "        count = 0\n",
    "        for m in range(len(musicEmotion.get_group(i))):\n",
    "            count += musicEmotionOne[m,j:j+1]\n",
    "        arr[countTwo] = count / len(musicEmotion.get_group(i))\n",
    "        countTwo += 1\n",
    "    arrTwo.append(arr)\n",
    "\n",
    "arrTwo = np.asarray(arrTwo)\n",
    "print(len(arrTwo))\n",
    "print(arrTwo[0])"
   ]
  },
  {
   "cell_type": "code",
   "execution_count": 272,
   "metadata": {},
   "outputs": [
    {
     "name": "stdout",
     "output_type": "stream",
     "text": [
      "399\n",
      "[0.14583333 0.33333333 0.20833333 0.29166667 0.625      0.02083333\n",
      " 0.08333333 0.0625     0.3125    ]\n"
     ]
    }
   ],
   "source": [
    "arrTwo = []\n",
    "for i in range(1,len(musicEmotion)):\n",
    "    countTwo = 0\n",
    "    arr = np.zeros(9)\n",
    "    musicEmotionOne = musicEmotion.get_group(i)\n",
    "    musicEmotionOne = np.asmatrix(musicEmotionOne)\n",
    "    for j in range(2,11):\n",
    "        count = np.sum(musicEmotionOne[:len(musicEmotionOne),j:j+1])\n",
    "        arr[countTwo] = count / len(musicEmotionOne)\n",
    "        countTwo += 1\n",
    "    arrTwo.append(arr)\n",
    "arrTwo = np.asarray(arrTwo)\n",
    "print(len(arrTwo))\n",
    "print(arrTwo[0])"
   ]
  }
 ],
 "metadata": {
  "kernelspec": {
   "display_name": "Python 3",
   "language": "python",
   "name": "python3"
  },
  "language_info": {
   "codemirror_mode": {
    "name": "ipython",
    "version": 3
   },
   "file_extension": ".py",
   "mimetype": "text/x-python",
   "name": "python",
   "nbconvert_exporter": "python",
   "pygments_lexer": "ipython3",
   "version": "3.8.3"
  }
 },
 "nbformat": 4,
 "nbformat_minor": 4
}
