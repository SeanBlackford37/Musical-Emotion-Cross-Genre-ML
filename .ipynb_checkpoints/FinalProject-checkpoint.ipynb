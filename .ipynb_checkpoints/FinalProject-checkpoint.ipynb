{
 "cells": [
  {
   "cell_type": "code",
   "execution_count": 1,
   "metadata": {},
   "outputs": [],
   "source": [
    "# used for manipulating directory paths\n",
    "import os\n",
    "\n",
    "# Scientific and vector computation for python\n",
    "import numpy as np\n",
    "\n",
    "# Import regular expressions to process emails\n",
    "import re\n",
    "\n",
    "# Plotting library\n",
    "from matplotlib import pyplot\n",
    "\n",
    "# Optimization module in scipy\n",
    "from scipy import optimize\n",
    "\n",
    "# will be used to load MATLAB mat datafile format\n",
    "from scipy.io import loadmat\n",
    "\n",
    "# library written for this exercise providing additional functions for assignment submission, and others\n",
    "import utils\n",
    "\n",
    "# tells matplotlib to embed plots within the notebook\n",
    "%matplotlib inline\n",
    "\n",
    "# Import a CSV file\n",
    "import pandas as pd"
   ]
  },
  {
   "cell_type": "code",
   "execution_count": 2,
   "metadata": {},
   "outputs": [],
   "source": [
    "musicEmotion = pd.read_csv(\"Data/data.csv\")\n",
    "musicEmotion = musicEmotion.groupby('track id')\n",
    "\n",
    "#print(len(musicEmotion.get_group(1)))\n",
    "#musicEmotion = np.asmatrix(musicEmotion)\n"
   ]
  },
  {
   "cell_type": "code",
   "execution_count": 3,
   "metadata": {},
   "outputs": [
    {
     "name": "stdout",
     "output_type": "stream",
     "text": [
      "400\n"
     ]
    }
   ],
   "source": [
    "# musicEmotionOne = musicEmotion.get_group(1)\n",
    "# musicEmotionOne = np.asmatrix(musicEmotionOne)\n",
    "# musicEmotionOne[0,2:3]\n",
    "# print(musicEmotionOne[0,3:4])\n",
    "print(len(musicEmotion))\n",
    "#print(musicEmotion.get_group(400))"
   ]
  },
  {
   "cell_type": "code",
   "execution_count": 4,
   "metadata": {},
   "outputs": [],
   "source": [
    "# arrTwo = []\n",
    "# for i in range(1,len(musicEmotion)+1):\n",
    "#     countTwo = 0\n",
    "#     arr = np.zeros(9)\n",
    "#     musicEmotionOne = musicEmotion.get_group(i)\n",
    "#     musicEmotionOne = np.asmatrix(musicEmotionOne)\n",
    "#     for j in range(2,11):\n",
    "#         count = 0\n",
    "#         for m in range(len(musicEmotion.get_group(i))):\n",
    "#             count += musicEmotionOne[m,j:j+1]\n",
    "#         arr[countTwo] = count / len(musicEmotion.get_group(i))\n",
    "#         countTwo += 1\n",
    "#     arrTwo.append(arr)\n",
    "\n",
    "# arrTwo = np.asarray(arrTwo)\n",
    "# print(len(arrTwo))\n",
    "# print(arrTwo[0])"
   ]
  },
  {
   "cell_type": "code",
   "execution_count": 5,
   "metadata": {},
   "outputs": [],
   "source": [
    "musicEmotionAvgs = []\n",
    "for i in range(1,len(musicEmotion)+1): #Arrays grouped by track ID 1-400(inclusive)\n",
    "    count = 0\n",
    "    song = np.zeros(9) #Array to hold avg of each emotion for given song\n",
    "    musicEmotionOne = musicEmotion.get_group(i) #Get each group loop\n",
    "    musicEmotionOne = np.asmatrix(musicEmotionOne) \n",
    "    for j in range(2,11): #Avg each of the 9 emotions columms C through K from each grouping\n",
    "        song[count] = np.sum(musicEmotionOne[:,j:j+1]) / len(musicEmotionOne) #Avg for each emotion\n",
    "        count += 1 #Keeps track current place in the song array\n",
    "    musicEmotionAvgs.append(song)\n",
    "\n",
    "musicEmotionAvgs = np.asarray(musicEmotionAvgs) #Coverts Matrix to an array\n"
   ]
  },
  {
   "cell_type": "code",
   "execution_count": 6,
   "metadata": {},
   "outputs": [
    {
     "name": "stdout",
     "output_type": "stream",
     "text": [
      "400\n",
      "[0.14583333 0.33333333 0.20833333 0.29166667 0.625      0.02083333\n",
      " 0.08333333 0.0625     0.3125    ]\n",
      "(400, 9)\n"
     ]
    }
   ],
   "source": [
    "print(len(musicEmotionAvgs))\n",
    "print(musicEmotionAvgs[0])\n",
    "print(musicEmotionAvgs.shape)"
   ]
  },
  {
   "cell_type": "code",
   "execution_count": 7,
   "metadata": {},
   "outputs": [],
   "source": [
    "def findClosestCentroids(X, centroids):\n",
    "    \"\"\"\n",
    "    Computes the centroid memberships for every example.\n",
    "    \n",
    "    Parameters\n",
    "    ----------\n",
    "    X : array_like\n",
    "        The dataset of size (m, n) where each row is a single example. \n",
    "        That is, we have m examples each of n dimensions.\n",
    "        \n",
    "    centroids : array_like\n",
    "        The k-means centroids of size (K, n). K is the number\n",
    "        of clusters, and n is the the data dimension.\n",
    "    \n",
    "    Returns\n",
    "    -------\n",
    "    idx : array_like\n",
    "        A vector of size (m, ) which holds the centroids assignment for each\n",
    "        example (row) in the dataset X.\n",
    "    \n",
    "    Instructions\n",
    "    ------------\n",
    "    Go over every example, find its closest centroid, and store\n",
    "    the index inside `idx` at the appropriate location.\n",
    "    Concretely, idx[i] should contain the index of the centroid\n",
    "    closest to example i. Hence, it should be a value in the \n",
    "    range 0..K-1\n",
    "\n",
    "    Note\n",
    "    ----\n",
    "    You can use a for-loop over the examples to compute this.\n",
    "    \"\"\"\n",
    "    # Set K\n",
    "    K = centroids.shape[0]\n",
    "\n",
    "    # You need to return the following variables correctly.\n",
    "    idx = np.zeros(X.shape[0], dtype=int)\n",
    "\n",
    "    # ====================== YOUR CODE HERE ======================\n",
    "\n",
    "    for i in np.arange(idx.size):\n",
    "        \n",
    "        J = np.sqrt(np.sum(np.square(X[i] - centroids), axis = 1))\n",
    "            \n",
    "        idx[i] = np.argmin(J)\n",
    "    \n",
    "    # =============================================================\n",
    "    return idx"
   ]
  },
  {
   "cell_type": "code",
   "execution_count": 8,
   "metadata": {},
   "outputs": [],
   "source": [
    "def computeCentroids(X, idx, K):\n",
    "    \"\"\"\n",
    "    Returns the new centroids by computing the means of the data points\n",
    "    assigned to each centroid.\n",
    "    \n",
    "    Parameters\n",
    "    ----------\n",
    "    X : array_like\n",
    "        The datset where each row is a single data point. That is, it \n",
    "        is a matrix of size (m, n) where there are m datapoints each\n",
    "        having n dimensions. \n",
    "    \n",
    "    idx : array_like \n",
    "        A vector (size m) of centroid assignments (i.e. each entry in range [0 ... K-1])\n",
    "        for each example.\n",
    "    \n",
    "    K : int\n",
    "        Number of clusters\n",
    "    \n",
    "    Returns\n",
    "    -------\n",
    "    centroids : array_like\n",
    "        A matrix of size (K, n) where each row is the mean of the data \n",
    "        points assigned to it.\n",
    "    \n",
    "    Instructions\n",
    "    ------------\n",
    "    Go over every centroid and compute mean of all points that\n",
    "    belong to it. Concretely, the row vector centroids[i, :]\n",
    "    should contain the mean of the data points assigned to\n",
    "    cluster i.\n",
    "\n",
    "    Note:\n",
    "    -----\n",
    "    You can use a for-loop over the centroids to compute this.\n",
    "    \"\"\"\n",
    "    # Useful variables\n",
    "    m, n = X.shape\n",
    "    # You need to return the following variables correctly.\n",
    "    centroids = np.zeros((K, n))\n",
    "\n",
    "\n",
    "    # ====================== YOUR CODE HERE ======================\n",
    "\n",
    "    for i in np.arange(K):\n",
    "        centroids[i] = np.mean(X[idx == i], axis = 0)\n",
    "        \n",
    "    \n",
    "    # =============================================================\n",
    "    return centroids"
   ]
  },
  {
   "cell_type": "code",
   "execution_count": 9,
   "metadata": {},
   "outputs": [],
   "source": [
    "def kMeansInitCentroids(X, K):\n",
    "    \"\"\"\n",
    "    This function initializes K centroids that are to be used in K-means on the dataset x.\n",
    "    \n",
    "    Parameters\n",
    "    ----------\n",
    "    X : array_like \n",
    "        The dataset of size (m x n).\n",
    "    \n",
    "    K : int\n",
    "        The number of clusters.\n",
    "    \n",
    "    Returns\n",
    "    -------\n",
    "    centroids : array_like\n",
    "        Centroids of the clusters. This is a matrix of size (K x n).\n",
    "    \n",
    "    Instructions\n",
    "    ------------\n",
    "    You should set centroids to randomly chosen examples from the dataset X.\n",
    "    \"\"\"\n",
    "    m, n = X.shape\n",
    "    \n",
    "    # You should return this values correctly\n",
    "    centroids = np.zeros((K, n))\n",
    "\n",
    "    # ====================== YOUR CODE HERE ======================\n",
    "\n",
    "    randidx = np.random.permutation(X.shape[0])\n",
    "    centroids = X[randidx[:K], :]\n",
    "    \n",
    "    # =============================================================\n",
    "    return centroids"
   ]
  },
  {
   "cell_type": "code",
   "execution_count": 20,
   "metadata": {},
   "outputs": [
    {
     "name": "stdout",
     "output_type": "stream",
     "text": [
      "[[0.04545455 0.29545455 0.31818182 0.52272727 0.31818182 0.04545455\n",
      "  0.06818182 0.18181818 0.31818182]\n",
      " [0.16666667 0.16666667 0.33333333 0.27777778 0.72222222 0.05555556\n",
      "  0.11111111 0.         0.16666667]\n",
      " [0.19565217 0.45652174 0.15217391 0.26086957 0.26086957 0.04347826\n",
      "  0.23913043 0.2173913  0.15217391]\n",
      " [0.16666667 0.08333333 0.75       0.41666667 0.41666667 0.\n",
      "  0.08333333 0.         0.08333333]\n",
      " [0.28       0.16       0.08       0.04       0.         0.32\n",
      "  0.44       0.2        0.        ]\n",
      " [0.09090909 0.18181818 0.36363636 0.45454545 0.27272727 0.27272727\n",
      "  0.18181818 0.09090909 0.09090909]\n",
      " [0.125      0.3125     0.0625     0.         0.1875     0.3125\n",
      "  0.75       0.25       0.        ]\n",
      " [0.02777778 0.25       0.38888889 0.25       0.66666667 0.02777778\n",
      "  0.05555556 0.05555556 0.25      ]\n",
      " [0.         0.23076923 0.15384615 0.46153846 0.69230769 0.07692308\n",
      "  0.         0.07692308 0.30769231]]\n"
     ]
    }
   ],
   "source": [
    "centroids = kMeansInitCentroids(musicEmotionAvgs, 9)\n",
    "print(centroids)"
   ]
  },
  {
   "cell_type": "code",
   "execution_count": 25,
   "metadata": {},
   "outputs": [
    {
     "name": "stdout",
     "output_type": "stream",
     "text": [
      "[[0.05895419 0.17199102 0.23670625 0.47812576 0.29713828 0.07296026\n",
      "  0.04961759 0.1460971  0.50859731]\n",
      " [0.14970733 0.21861688 0.25068707 0.22944064 0.63900953 0.06321633\n",
      "  0.18004625 0.13987258 0.09395229]\n",
      " [0.10754547 0.36241361 0.08074239 0.16135829 0.2488647  0.22189084\n",
      "  0.09355089 0.4192225  0.24452924]\n",
      " [0.10715563 0.10250448 0.53545007 0.47690605 0.50973037 0.02879546\n",
      "  0.08712773 0.03535191 0.21188574]\n",
      " [0.1363156  0.16987737 0.03054653 0.11148403 0.07840667 0.42368648\n",
      "  0.38831943 0.44387952 0.10474661]\n",
      " [0.16544199 0.1249233  0.2510347  0.34897106 0.3033018  0.12570908\n",
      "  0.28446539 0.14673769 0.15426178]\n",
      " [0.22364136 0.11873946 0.08302349 0.14195003 0.14361498 0.2470065\n",
      "  0.64585954 0.17705504 0.04318948]\n",
      " [0.06540743 0.14648618 0.33371663 0.37335315 0.52512598 0.03859786\n",
      "  0.04278211 0.11262043 0.32708861]\n",
      " [0.07433568 0.38067436 0.16255999 0.37523551 0.50670343 0.07710583\n",
      "  0.07204961 0.14904118 0.26959549]]\n"
     ]
    }
   ],
   "source": [
    "centroids, idx = utils.runkMeans(musicEmotionAvgs, centroids, findClosestCentroids, computeCentroids, 100, True)\n",
    "print(centroids)"
   ]
  },
  {
   "cell_type": "code",
   "execution_count": null,
   "metadata": {},
   "outputs": [],
   "source": []
  },
  {
   "cell_type": "code",
   "execution_count": null,
   "metadata": {},
   "outputs": [],
   "source": []
  }
 ],
 "metadata": {
  "kernelspec": {
   "display_name": "Python 3",
   "language": "python",
   "name": "python3"
  },
  "language_info": {
   "codemirror_mode": {
    "name": "ipython",
    "version": 3
   },
   "file_extension": ".py",
   "mimetype": "text/x-python",
   "name": "python",
   "nbconvert_exporter": "python",
   "pygments_lexer": "ipython3",
   "version": "3.8.5"
  }
 },
 "nbformat": 4,
 "nbformat_minor": 4
}
