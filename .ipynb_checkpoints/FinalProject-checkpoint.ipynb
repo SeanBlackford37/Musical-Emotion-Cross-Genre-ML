{
 "cells": [
  {
   "cell_type": "code",
   "execution_count": 228,
   "metadata": {},
   "outputs": [],
   "source": [
    "# used for manipulating directory paths\n",
    "import os\n",
    "\n",
    "# Scientific and vector computation for python\n",
    "import numpy as np\n",
    "\n",
    "# Import regular expressions to process emails\n",
    "import re\n",
    "\n",
    "# Plotting library\n",
    "from matplotlib import pyplot\n",
    "\n",
    "# Optimization module in scipy\n",
    "from scipy import optimize\n",
    "\n",
    "# will be used to load MATLAB mat datafile format\n",
    "from scipy.io import loadmat\n",
    "\n",
    "# library written for this exercise providing additional functions for assignment submission, and others\n",
    "import utils\n",
    "\n",
    "# tells matplotlib to embed plots within the notebook\n",
    "%matplotlib inline\n",
    "\n",
    "# Import a CSV file\n",
    "import pandas as pd"
   ]
  },
  {
   "cell_type": "code",
   "execution_count": 265,
   "metadata": {},
   "outputs": [
    {
     "name": "stdout",
     "output_type": "stream",
     "text": [
      "48\n"
     ]
    }
   ],
   "source": [
    "musicEmotion = pd.read_csv(\"Data/data.csv\")\n",
    "musicEmotion = musicEmotion.groupby('track id')\n",
    "\n",
    "#print(len(musicEmotion.get_group(1)))\n",
    "#musicEmotion = np.asmatrix(musicEmotion)\n"
   ]
  },
  {
   "cell_type": "code",
   "execution_count": 277,
   "metadata": {},
   "outputs": [
    {
     "name": "stdout",
     "output_type": "stream",
     "text": [
      "400\n",
      "      track id  genre   amazement   solemnity   tenderness   nostalgia  \\\n",
      "8395       400    pop           0           0            1           1   \n",
      "8396       400    pop           0           0            0           1   \n",
      "8397       400    pop           0           0            0           0   \n",
      "8398       400    pop           0           1            0           1   \n",
      "8399       400    pop           0           0            0           0   \n",
      "8400       400    pop           0           0            0           0   \n",
      "8401       400    pop           0           0            0           0   \n",
      "8402       400    pop           1           1            0           0   \n",
      "8403       400    pop           0           0            0           1   \n",
      "8404       400    pop           0           0            0           0   \n",
      "8405       400    pop           1           0            0           0   \n",
      "8406       400    pop           1           0            0           0   \n",
      "\n",
      "       calmness   power   joyful_activation   tension   sadness   mood  \\\n",
      "8395          0       0                   0         0         1      2   \n",
      "8396          1       0                   0         0         1      1   \n",
      "8397          0       0                   0         1         1      3   \n",
      "8398          0       0                   0         0         0      2   \n",
      "8399          0       0                   0         1         0      3   \n",
      "8400          0       0                   0         0         1      4   \n",
      "8401          0       0                   0         1         0      3   \n",
      "8402          0       0                   1         0         0      3   \n",
      "8403          0       0                   1         0         1      3   \n",
      "8404          0       0                   0         1         0      4   \n",
      "8405          0       0                   1         1         0      5   \n",
      "8406          0       0                   0         1         0      4   \n",
      "\n",
      "       liked   disliked   age   gender  mother tongue  \n",
      "8395       0          1    19        1        English  \n",
      "8396       0          0    26        1        Russian  \n",
      "8397       0          0    46        1          Dutch  \n",
      "8398       1          0    40        0          Dutch  \n",
      "8399       0          0    18        1          Dutch  \n",
      "8400       0          0    23        0          Dutch  \n",
      "8401       0          0    18        1          Dutch  \n",
      "8402       0          0    26        1        Russian  \n",
      "8403       0          1    29        0        Russian  \n",
      "8404       0          1    34        1         Polish  \n",
      "8405       0          0    39        1         French  \n",
      "8406       0          1    18        1        Russian  \n"
     ]
    }
   ],
   "source": [
    "# musicEmotionOne = musicEmotion.get_group(1)\n",
    "# musicEmotionOne = np.asmatrix(musicEmotionOne)\n",
    "# musicEmotionOne[0,2:3]\n",
    "# print(musicEmotionOne[0,3:4])\n",
    "print(len(musicEmotion))\n",
    "print(musicEmotion.get_group(400))"
   ]
  },
  {
   "cell_type": "code",
   "execution_count": 271,
   "metadata": {},
   "outputs": [
    {
     "name": "stdout",
     "output_type": "stream",
     "text": [
      "399\n",
      "[0.14583333 0.33333333 0.20833333 0.29166667 0.625      0.02083333\n",
      " 0.08333333 0.0625     0.3125    ]\n"
     ]
    }
   ],
   "source": [
    "arrTwo = []\n",
    "for i in range(1,len(musicEmotion)+1):\n",
    "    countTwo = 0\n",
    "    arr = np.zeros(9)\n",
    "    musicEmotionOne = musicEmotion.get_group(i)\n",
    "    musicEmotionOne = np.asmatrix(musicEmotionOne)\n",
    "    for j in range(2,11):\n",
    "        count = 0\n",
    "        for m in range(len(musicEmotion.get_group(i))):\n",
    "            count += musicEmotionOne[m,j:j+1]\n",
    "        arr[countTwo] = count / len(musicEmotion.get_group(i))\n",
    "        countTwo += 1\n",
    "    arrTwo.append(arr)\n",
    "\n",
    "arrTwo = np.asarray(arrTwo)\n",
    "print(len(arrTwo))\n",
    "print(arrTwo[0])"
   ]
  },
  {
   "cell_type": "code",
   "execution_count": 276,
   "metadata": {},
   "outputs": [
    {
     "name": "stdout",
     "output_type": "stream",
     "text": [
      "400\n",
      "[0.25       0.16666667 0.08333333 0.33333333 0.08333333 0.\n",
      " 0.25       0.5        0.41666667]\n"
     ]
    }
   ],
   "source": [
    "arrTwo = []\n",
    "for i in range(1,len(musicEmotion)+1):\n",
    "    countTwo = 0\n",
    "    arr = np.zeros(9)\n",
    "    musicEmotionOne = musicEmotion.get_group(i)\n",
    "    musicEmotionOne = np.asmatrix(musicEmotionOne)\n",
    "    for j in range(2,11):\n",
    "        count = np.sum(musicEmotionOne[:len(musicEmotionOne),j:j+1])\n",
    "        arr[countTwo] = count / len(musicEmotionOne)\n",
    "        countTwo += 1\n",
    "    arrTwo.append(arr)\n",
    "arrTwo = np.asarray(arrTwo)\n",
    "print(len(arrTwo))\n",
    "print(arrTwo[399])"
   ]
  },
  {
   "cell_type": "code",
   "execution_count": null,
   "metadata": {},
   "outputs": [],
   "source": []
  }
 ],
 "metadata": {
  "kernelspec": {
   "display_name": "Python 3",
   "language": "python",
   "name": "python3"
  },
  "language_info": {
   "codemirror_mode": {
    "name": "ipython",
    "version": 3
   },
   "file_extension": ".py",
   "mimetype": "text/x-python",
   "name": "python",
   "nbconvert_exporter": "python",
   "pygments_lexer": "ipython3",
   "version": "3.8.3"
  }
 },
 "nbformat": 4,
 "nbformat_minor": 4
}
